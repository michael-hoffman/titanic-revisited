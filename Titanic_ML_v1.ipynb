{
 "cells": [
  {
   "cell_type": "markdown",
   "metadata": {
    "deletable": true,
    "editable": true
   },
   "source": [
    "# Titanic: Machine Learning from Disaster\n",
    "## *An Exploration into the Data using Python*\n",
    "### Data Science on the Hill (Michael Hoffman and Charlies Bonfield)\n",
    "\n",
    "\n",
    "## Table of Contents:\n",
    "1. [Introduction](#first-bullet) <br/>\n",
    "2. [Loading/Examining the Data](#second-bullet) <br/>\n",
    "3. [All the Features!](#third-bullet) <br/>\n",
    "    3a. [Extracting Titles from Names](#third-first) <br/>\n",
    "    3b. [Treating Missing Ports of Departure](#third-second) <br/>\n",
    "    3c. [Handling Missing Fares](#third-third) <br/>\n",
    "    3d. [Cabin Number: Relevant or Not?](#third-fourth) <br/>\n",
    "    3e. [Quick Fixes](#third-fifth) <br/>\n",
    "    3f. [Imputing Missing Ages](#third-sixth) <br/>\n",
    "4. [Prediction](#fourth-bullet) <br/>"
   ]
  },
  {
   "cell_type": "markdown",
   "metadata": {
    "deletable": true,
    "editable": true
   },
   "source": [
    "## 1. Introduction <a class=\"anchor\" id=\"first-bullet\"></a>"
   ]
  },
  {
   "cell_type": "markdown",
   "metadata": {
    "deletable": true,
    "editable": true
   },
   "source": [
    "To get familiar with Kaggle competitions we worked on the initial tutorial project. The goal is to predict who onboard the *Titanic* survived the accident. In our initial analysis, we wanted to see how much the predictions would change when the input data was scaled properly as opposed to unscaled (violating the assumptions of the underlying SVM model). We saw an approximately five percent improvement in accuracy by preprocessing the data properly."
   ]
  },
  {
   "cell_type": "code",
   "execution_count": 28,
   "metadata": {
    "collapsed": false,
    "deletable": true,
    "editable": true
   },
   "outputs": [],
   "source": [
    "# data analysis and wrangling\n",
    "import pandas as pd\n",
    "import numpy as np\n",
    "import scipy\n",
    "\n",
    "# visualization\n",
    "import matplotlib.pyplot as plt\n",
    "import seaborn as sns\n",
    "\n",
    "# machine learning\n",
    "from sklearn.svm import SVC\n",
    "from sklearn import preprocessing\n",
    "import fancyimpute\n",
    "from sklearn.model_selection import train_test_split\n",
    "from sklearn.model_selection import RandomizedSearchCV\n",
    "from sklearn.metrics import classification_report\n",
    "from sklearn.model_selection import cross_val_score\n",
    "\n",
    "%matplotlib inline"
   ]
  },
  {
   "cell_type": "markdown",
   "metadata": {
    "deletable": true,
    "editable": true
   },
   "source": [
    "## 2. Loading/Examining the Data <a class=\"anchor\" id=\"second-bullet\"></a>"
   ]
  },
  {
   "cell_type": "code",
   "execution_count": 29,
   "metadata": {
    "collapsed": true,
    "deletable": true,
    "editable": true
   },
   "outputs": [],
   "source": [
    "# Load the data. \n",
    "training_data = pd.read_csv('train.csv')\n",
    "test_data = pd.read_csv('test.csv')"
   ]
  },
  {
   "cell_type": "code",
   "execution_count": 30,
   "metadata": {
    "collapsed": false,
    "deletable": true,
    "editable": true
   },
   "outputs": [
    {
     "data": {
      "text/html": [
       "<div>\n",
       "<table border=\"1\" class=\"dataframe\">\n",
       "  <thead>\n",
       "    <tr style=\"text-align: right;\">\n",
       "      <th></th>\n",
       "      <th>PassengerId</th>\n",
       "      <th>Survived</th>\n",
       "      <th>Pclass</th>\n",
       "      <th>Name</th>\n",
       "      <th>Sex</th>\n",
       "      <th>Age</th>\n",
       "      <th>SibSp</th>\n",
       "      <th>Parch</th>\n",
       "      <th>Ticket</th>\n",
       "      <th>Fare</th>\n",
       "      <th>Cabin</th>\n",
       "      <th>Embarked</th>\n",
       "    </tr>\n",
       "  </thead>\n",
       "  <tbody>\n",
       "    <tr>\n",
       "      <th>0</th>\n",
       "      <td>1</td>\n",
       "      <td>0</td>\n",
       "      <td>3</td>\n",
       "      <td>Braund, Mr. Owen Harris</td>\n",
       "      <td>male</td>\n",
       "      <td>22.0</td>\n",
       "      <td>1</td>\n",
       "      <td>0</td>\n",
       "      <td>A/5 21171</td>\n",
       "      <td>7.2500</td>\n",
       "      <td>NaN</td>\n",
       "      <td>S</td>\n",
       "    </tr>\n",
       "    <tr>\n",
       "      <th>1</th>\n",
       "      <td>2</td>\n",
       "      <td>1</td>\n",
       "      <td>1</td>\n",
       "      <td>Cumings, Mrs. John Bradley (Florence Briggs Th...</td>\n",
       "      <td>female</td>\n",
       "      <td>38.0</td>\n",
       "      <td>1</td>\n",
       "      <td>0</td>\n",
       "      <td>PC 17599</td>\n",
       "      <td>71.2833</td>\n",
       "      <td>C85</td>\n",
       "      <td>C</td>\n",
       "    </tr>\n",
       "    <tr>\n",
       "      <th>2</th>\n",
       "      <td>3</td>\n",
       "      <td>1</td>\n",
       "      <td>3</td>\n",
       "      <td>Heikkinen, Miss. Laina</td>\n",
       "      <td>female</td>\n",
       "      <td>26.0</td>\n",
       "      <td>0</td>\n",
       "      <td>0</td>\n",
       "      <td>STON/O2. 3101282</td>\n",
       "      <td>7.9250</td>\n",
       "      <td>NaN</td>\n",
       "      <td>S</td>\n",
       "    </tr>\n",
       "    <tr>\n",
       "      <th>3</th>\n",
       "      <td>4</td>\n",
       "      <td>1</td>\n",
       "      <td>1</td>\n",
       "      <td>Futrelle, Mrs. Jacques Heath (Lily May Peel)</td>\n",
       "      <td>female</td>\n",
       "      <td>35.0</td>\n",
       "      <td>1</td>\n",
       "      <td>0</td>\n",
       "      <td>113803</td>\n",
       "      <td>53.1000</td>\n",
       "      <td>C123</td>\n",
       "      <td>S</td>\n",
       "    </tr>\n",
       "    <tr>\n",
       "      <th>4</th>\n",
       "      <td>5</td>\n",
       "      <td>0</td>\n",
       "      <td>3</td>\n",
       "      <td>Allen, Mr. William Henry</td>\n",
       "      <td>male</td>\n",
       "      <td>35.0</td>\n",
       "      <td>0</td>\n",
       "      <td>0</td>\n",
       "      <td>373450</td>\n",
       "      <td>8.0500</td>\n",
       "      <td>NaN</td>\n",
       "      <td>S</td>\n",
       "    </tr>\n",
       "  </tbody>\n",
       "</table>\n",
       "</div>"
      ],
      "text/plain": [
       "   PassengerId  Survived  Pclass  \\\n",
       "0            1         0       3   \n",
       "1            2         1       1   \n",
       "2            3         1       3   \n",
       "3            4         1       1   \n",
       "4            5         0       3   \n",
       "\n",
       "                                                Name     Sex   Age  SibSp  \\\n",
       "0                            Braund, Mr. Owen Harris    male  22.0      1   \n",
       "1  Cumings, Mrs. John Bradley (Florence Briggs Th...  female  38.0      1   \n",
       "2                             Heikkinen, Miss. Laina  female  26.0      0   \n",
       "3       Futrelle, Mrs. Jacques Heath (Lily May Peel)  female  35.0      1   \n",
       "4                           Allen, Mr. William Henry    male  35.0      0   \n",
       "\n",
       "   Parch            Ticket     Fare Cabin Embarked  \n",
       "0      0         A/5 21171   7.2500   NaN        S  \n",
       "1      0          PC 17599  71.2833   C85        C  \n",
       "2      0  STON/O2. 3101282   7.9250   NaN        S  \n",
       "3      0            113803  53.1000  C123        S  \n",
       "4      0            373450   8.0500   NaN        S  "
      ]
     },
     "execution_count": 30,
     "metadata": {},
     "output_type": "execute_result"
    }
   ],
   "source": [
    "# Examine the first few rows of data in the training set. \n",
    "training_data.head()"
   ]
  },
  {
   "cell_type": "markdown",
   "metadata": {
    "deletable": true,
    "editable": true
   },
   "source": [
    "## 3. All the Features! <a class=\"anchor\" id=\"third-bullet\"></a>"
   ]
  },
  {
   "cell_type": "markdown",
   "metadata": {
    "deletable": true,
    "editable": true
   },
   "source": [
    "We will be extracting the features with custom functions. This isn't necessary for all the features for this project, but we want to leave the possibilty for further development open for the future. "
   ]
  },
  {
   "cell_type": "markdown",
   "metadata": {
    "deletable": true,
    "editable": true
   },
   "source": [
    "### 3a. Extracting Titles from Names <a class=\"anchor\" id=\"third-first\"></a>"
   ]
  },
  {
   "cell_type": "markdown",
   "metadata": {
    "deletable": true,
    "editable": true
   },
   "source": [
    "While the **Name** feature itself may not appear to be useful at first glance, we can tease out additional features that may be useful for predicting survival on the Titanic. We will extract a **Title** from each name, as that carries information about social and marital status (which in turn may relate to survival).   "
   ]
  },
  {
   "cell_type": "code",
   "execution_count": 31,
   "metadata": {
    "collapsed": false,
    "deletable": true,
    "editable": true
   },
   "outputs": [],
   "source": [
    "# Extract title from names, then assign to one of five classes.\n",
    "# Function based on code from: https://www.kaggle.com/startupsci/titanic/titanic-data-science-solutions \n",
    "def add_title(data):\n",
    "    data['Title'] = data.Name.str.extract(' ([A-Za-z]+)\\.', expand=False)\n",
    "    data.Title = data.Title.replace(['Lady', 'Countess','Capt', 'Col','Don', 'Dr', 'Major', \n",
    "                                     'Rev', 'Sir', 'Jonkheer', 'Dona'], 'Rare')\n",
    "    data.Title = data.Title.replace('Mlle', 'Miss')\n",
    "    data.Title = data.Title.replace('Ms', 'Miss')\n",
    "    data.Title = data.Title.replace('Mme', 'Mrs')\n",
    "    \n",
    "    # Map from strings to numerical variables.\n",
    "    title_mapping = {\"Mr\": 1, \"Miss\": 2, \"Mrs\": 3, \"Master\": 4, \"Rare\": 5}\n",
    "    \n",
    "    data.Title = data.Title.map(title_mapping)\n",
    "    data.Title = data.Title.fillna(0)\n",
    "\n",
    "    return data"
   ]
  },
  {
   "cell_type": "markdown",
   "metadata": {
    "deletable": true,
    "editable": true
   },
   "source": [
    "### 3b. Treating Missing Ports of Embarkation <a class=\"anchor\" id=\"third-second\"></a>"
   ]
  },
  {
   "cell_type": "markdown",
   "metadata": {
    "deletable": true,
    "editable": true
   },
   "source": [
    "Next, let's see if there are any rows that are missing ports of embarkation. "
   ]
  },
  {
   "cell_type": "code",
   "execution_count": 32,
   "metadata": {
    "collapsed": false,
    "deletable": true,
    "editable": true
   },
   "outputs": [],
   "source": [
    "missing_emb_training = training_data[pd.isnull(training_data.Embarked) == True]\n",
    "missing_emb_test = test_data[pd.isnull(test_data.Embarked) == True]"
   ]
  },
  {
   "cell_type": "code",
   "execution_count": 33,
   "metadata": {
    "collapsed": false,
    "deletable": true,
    "editable": true
   },
   "outputs": [
    {
     "data": {
      "text/html": [
       "<div>\n",
       "<table border=\"1\" class=\"dataframe\">\n",
       "  <thead>\n",
       "    <tr style=\"text-align: right;\">\n",
       "      <th></th>\n",
       "      <th>PassengerId</th>\n",
       "      <th>Survived</th>\n",
       "      <th>Pclass</th>\n",
       "      <th>Name</th>\n",
       "      <th>Sex</th>\n",
       "      <th>Age</th>\n",
       "      <th>SibSp</th>\n",
       "      <th>Parch</th>\n",
       "      <th>Ticket</th>\n",
       "      <th>Fare</th>\n",
       "      <th>Cabin</th>\n",
       "      <th>Embarked</th>\n",
       "    </tr>\n",
       "  </thead>\n",
       "  <tbody>\n",
       "    <tr>\n",
       "      <th>61</th>\n",
       "      <td>62</td>\n",
       "      <td>1</td>\n",
       "      <td>1</td>\n",
       "      <td>Icard, Miss. Amelie</td>\n",
       "      <td>female</td>\n",
       "      <td>38.0</td>\n",
       "      <td>0</td>\n",
       "      <td>0</td>\n",
       "      <td>113572</td>\n",
       "      <td>80.0</td>\n",
       "      <td>B28</td>\n",
       "      <td>NaN</td>\n",
       "    </tr>\n",
       "    <tr>\n",
       "      <th>829</th>\n",
       "      <td>830</td>\n",
       "      <td>1</td>\n",
       "      <td>1</td>\n",
       "      <td>Stone, Mrs. George Nelson (Martha Evelyn)</td>\n",
       "      <td>female</td>\n",
       "      <td>62.0</td>\n",
       "      <td>0</td>\n",
       "      <td>0</td>\n",
       "      <td>113572</td>\n",
       "      <td>80.0</td>\n",
       "      <td>B28</td>\n",
       "      <td>NaN</td>\n",
       "    </tr>\n",
       "  </tbody>\n",
       "</table>\n",
       "</div>"
      ],
      "text/plain": [
       "     PassengerId  Survived  Pclass                                       Name  \\\n",
       "61            62         1       1                        Icard, Miss. Amelie   \n",
       "829          830         1       1  Stone, Mrs. George Nelson (Martha Evelyn)   \n",
       "\n",
       "        Sex   Age  SibSp  Parch  Ticket  Fare Cabin Embarked  \n",
       "61   female  38.0      0      0  113572  80.0   B28      NaN  \n",
       "829  female  62.0      0      0  113572  80.0   B28      NaN  "
      ]
     },
     "execution_count": 33,
     "metadata": {},
     "output_type": "execute_result"
    }
   ],
   "source": [
    "missing_emb_training.head()"
   ]
  },
  {
   "cell_type": "code",
   "execution_count": 34,
   "metadata": {
    "collapsed": false,
    "deletable": true,
    "editable": true
   },
   "outputs": [
    {
     "data": {
      "text/html": [
       "<div>\n",
       "<table border=\"1\" class=\"dataframe\">\n",
       "  <thead>\n",
       "    <tr style=\"text-align: right;\">\n",
       "      <th></th>\n",
       "      <th>PassengerId</th>\n",
       "      <th>Pclass</th>\n",
       "      <th>Name</th>\n",
       "      <th>Sex</th>\n",
       "      <th>Age</th>\n",
       "      <th>SibSp</th>\n",
       "      <th>Parch</th>\n",
       "      <th>Ticket</th>\n",
       "      <th>Fare</th>\n",
       "      <th>Cabin</th>\n",
       "      <th>Embarked</th>\n",
       "    </tr>\n",
       "  </thead>\n",
       "  <tbody>\n",
       "  </tbody>\n",
       "</table>\n",
       "</div>"
      ],
      "text/plain": [
       "Empty DataFrame\n",
       "Columns: [PassengerId, Pclass, Name, Sex, Age, SibSp, Parch, Ticket, Fare, Cabin, Embarked]\n",
       "Index: []"
      ]
     },
     "execution_count": 34,
     "metadata": {},
     "output_type": "execute_result"
    }
   ],
   "source": [
    "missing_emb_test.head()"
   ]
  },
  {
   "cell_type": "markdown",
   "metadata": {
    "deletable": true,
    "editable": true
   },
   "source": [
    "We have two passengers in the training set that are missing ports of embarkation, while we are not missing any in the test set. <br\\>\n",
    "\n",
    "The features which may allow us to assign a port of embarkation based on the data that we do have are **Pclass**, **Fare**, and **Cabin**. However, since we are missing so much of the **Cabin** column (more on that later), let's focus in on the other two.   "
   ]
  },
  {
   "cell_type": "code",
   "execution_count": 35,
   "metadata": {
    "collapsed": false,
    "deletable": true,
    "editable": true
   },
   "outputs": [
    {
     "data": {
      "image/png": "[encoded data removed]",
      "text/plain": [
       "<matplotlib.figure.Figure at 0x10be20a20>"
      ]
     },
     "metadata": {},
     "output_type": "display_data"
    }
   ],
   "source": [
    "grid = sns.FacetGrid(training_data[training_data.Pclass == 1], col='Embarked', size=2.2, aspect=1.6)\n",
    "grid.map(plt.hist, 'Fare', alpha=.5, bins=20)\n",
    "grid.map(plt.axvline, x=80.0, color='red', ls='dashed')\n",
    "grid.add_legend();"
   ]
  },
  {
   "cell_type": "markdown",
   "metadata": {
    "deletable": true,
    "editable": true
   },
   "source": [
    "Although Southampton was the most popular port of embarkation, there was a greater fraction of passengers in the first ticket class from Cherbourg who paid 80.00 for their tickets. Therefore, we will assign 'C' to the missing values for **Embarked**. We will also recast **Embarked** as a numerical feature.   "
   ]
  },
  {
   "cell_type": "code",
   "execution_count": 36,
   "metadata": {
    "collapsed": true,
    "deletable": true,
    "editable": true
   },
   "outputs": [],
   "source": [
    "# Recast port of departure as numerical feature. \n",
    "def simplify_embark(data):\n",
    "    # Two missing values, assign Cherbourg as port of departure.\n",
    "    data.Embarked = data.Embarked.fillna('C')\n",
    "    \n",
    "    le = preprocessing.LabelEncoder().fit(data.Embarked)\n",
    "    data.Embarked = le.transform(data.Embarked)\n",
    "    \n",
    "    return data"
   ]
  },
  {
   "cell_type": "markdown",
   "metadata": {
    "deletable": true,
    "editable": true
   },
   "source": [
    "### 3c. Handling Missing Fares <a class=\"anchor\" id=\"third-third\"></a>"
   ]
  },
  {
   "cell_type": "markdown",
   "metadata": {
    "deletable": true,
    "editable": true
   },
   "source": [
    "We will perform a similar analysis to see if there are any missing fares. "
   ]
  },
  {
   "cell_type": "code",
   "execution_count": 37,
   "metadata": {
    "collapsed": true,
    "deletable": true,
    "editable": true
   },
   "outputs": [],
   "source": [
    "missing_fare_training = training_data[np.isnan(training_data['Fare'])]\n",
    "missing_fare_test = test_data[np.isnan(test_data['Fare'])]"
   ]
  },
  {
   "cell_type": "code",
   "execution_count": 38,
   "metadata": {
    "collapsed": false,
    "deletable": true,
    "editable": true
   },
   "outputs": [
    {
     "data": {
      "text/html": [
       "<div>\n",
       "<table border=\"1\" class=\"dataframe\">\n",
       "  <thead>\n",
       "    <tr style=\"text-align: right;\">\n",
       "      <th></th>\n",
       "      <th>PassengerId</th>\n",
       "      <th>Survived</th>\n",
       "      <th>Pclass</th>\n",
       "      <th>Name</th>\n",
       "      <th>Sex</th>\n",
       "      <th>Age</th>\n",
       "      <th>SibSp</th>\n",
       "      <th>Parch</th>\n",
       "      <th>Ticket</th>\n",
       "      <th>Fare</th>\n",
       "      <th>Cabin</th>\n",
       "      <th>Embarked</th>\n",
       "    </tr>\n",
       "  </thead>\n",
       "  <tbody>\n",
       "  </tbody>\n",
       "</table>\n",
       "</div>"
      ],
      "text/plain": [
       "Empty DataFrame\n",
       "Columns: [PassengerId, Survived, Pclass, Name, Sex, Age, SibSp, Parch, Ticket, Fare, Cabin, Embarked]\n",
       "Index: []"
      ]
     },
     "execution_count": 38,
     "metadata": {},
     "output_type": "execute_result"
    }
   ],
   "source": [
    "missing_fare_training.head()"
   ]
  },
  {
   "cell_type": "code",
   "execution_count": 39,
   "metadata": {
    "collapsed": false,
    "deletable": true,
    "editable": true
   },
   "outputs": [
    {
     "data": {
      "text/html": [
       "<div>\n",
       "<table border=\"1\" class=\"dataframe\">\n",
       "  <thead>\n",
       "    <tr style=\"text-align: right;\">\n",
       "      <th></th>\n",
       "      <th>PassengerId</th>\n",
       "      <th>Pclass</th>\n",
       "      <th>Name</th>\n",
       "      <th>Sex</th>\n",
       "      <th>Age</th>\n",
       "      <th>SibSp</th>\n",
       "      <th>Parch</th>\n",
       "      <th>Ticket</th>\n",
       "      <th>Fare</th>\n",
       "      <th>Cabin</th>\n",
       "      <th>Embarked</th>\n",
       "    </tr>\n",
       "  </thead>\n",
       "  <tbody>\n",
       "    <tr>\n",
       "      <th>152</th>\n",
       "      <td>1044</td>\n",
       "      <td>3</td>\n",
       "      <td>Storey, Mr. Thomas</td>\n",
       "      <td>male</td>\n",
       "      <td>60.5</td>\n",
       "      <td>0</td>\n",
       "      <td>0</td>\n",
       "      <td>3701</td>\n",
       "      <td>NaN</td>\n",
       "      <td>NaN</td>\n",
       "      <td>S</td>\n",
       "    </tr>\n",
       "  </tbody>\n",
       "</table>\n",
       "</div>"
      ],
      "text/plain": [
       "     PassengerId  Pclass                Name   Sex   Age  SibSp  Parch Ticket  \\\n",
       "152         1044       3  Storey, Mr. Thomas  male  60.5      0      0   3701   \n",
       "\n",
       "     Fare Cabin Embarked  \n",
       "152   NaN   NaN        S  "
      ]
     },
     "execution_count": 39,
     "metadata": {},
     "output_type": "execute_result"
    }
   ],
   "source": [
    "missing_fare_test.head()"
   ]
  },
  {
   "cell_type": "markdown",
   "metadata": {
    "deletable": true,
    "editable": true
   },
   "source": [
    "This time, the **Fare** column in the training set is complete, but we are missing that information for one passenger in the test set. Since we do have **PClass** and **Embarked**, however, we will assign a fare based on the distribution of fares for those particular values of **PClass** and **Embarked**. "
   ]
  },
  {
   "cell_type": "code",
   "execution_count": 40,
   "metadata": {
    "collapsed": false,
    "deletable": true,
    "editable": true
   },
   "outputs": [
    {
     "data": {
      "image/png": "[encoded data removed]",
      "text/plain": [
       "<matplotlib.figure.Figure at 0x10ad890b8>"
      ]
     },
     "metadata": {},
     "output_type": "display_data"
    }
   ],
   "source": [
    "restricted_training = training_data[(training_data.Pclass == 3) & (training_data.Embarked == 'S')]\n",
    "restricted_test = test_data[(test_data.Pclass == 3) & (test_data.Embarked == 'S')]\n",
    "restricted_test = restricted_test[~np.isnan(restricted_test.Fare)] # Leave out poor Mr. Storey\n",
    "combine = [restricted_training, restricted_test]\n",
    "combine = pd.concat(combine)\n",
    "\n",
    "# Find median fare, plot over resulting distribution. \n",
    "fare_med = np.median(combine.Fare)\n",
    "\n",
    "sns.kdeplot(combine.Fare, shade=True)\n",
    "plt.axvline(fare_med, color='r', ls='dashed', lw='1', label='Median')\n",
    "plt.legend();"
   ]
  },
  {
   "cell_type": "markdown",
   "metadata": {
    "deletable": true,
    "editable": true
   },
   "source": [
    "After examining the distribution of **Fare** restricted to the specified values of **Pclass** and **Fare**, we will use the median for the missing fare (as it falls very close the fare corresponding to the peak of the distribution).   "
   ]
  },
  {
   "cell_type": "code",
   "execution_count": 41,
   "metadata": {
    "collapsed": false,
    "deletable": true,
    "editable": true
   },
   "outputs": [],
   "source": [
    "test_data['Fare'] = test_data['Fare'].fillna(fare_med)"
   ]
  },
  {
   "cell_type": "markdown",
   "metadata": {
    "deletable": true,
    "editable": true
   },
   "source": [
    "### 3d. Cabin Number: Relevant or Not? <a class=\"anchor\" id=\"third-fourth\"></a>"
   ]
  },
  {
   "cell_type": "markdown",
   "metadata": {
    "deletable": true,
    "editable": true
   },
   "source": [
    "When we first encountered the data, we figured that **Cabin** would be one of the most important features in predicting survival, as it would not be unreasonable to think of it as a proxy for a passenger's position on the Titanic relative to the lifeboats (distance to deck, distance to nearest stairwell, social class, etc.). \n",
    "\n",
    "Unfortunately, much of this data is missing:   "
   ]
  },
  {
   "cell_type": "code",
   "execution_count": 42,
   "metadata": {
    "collapsed": false,
    "deletable": true,
    "editable": true
   },
   "outputs": [
    {
     "name": "stdout",
     "output_type": "stream",
     "text": [
      "Percentage of Missing Cabin Numbers (Training): 77.1\n",
      "Percentage of Missing Cabin Numbers (Test): 78.2\n"
     ]
    }
   ],
   "source": [
    "missing_cabin_training = np.size(training_data.Cabin[pd.isnull(training_data.Cabin) == True]) / np.size(training_data.Cabin) * 100.0\n",
    "missing_cabin_test = np.size(test_data.Cabin[pd.isnull(test_data.Cabin) == True]) / np.size(test_data.Cabin) * 100.0\n",
    "\n",
    "print('Percentage of Missing Cabin Numbers (Training): %0.1f' % missing_cabin_training)\n",
    "print('Percentage of Missing Cabin Numbers (Test): %0.1f' % missing_cabin_test)"
   ]
  },
  {
   "cell_type": "markdown",
   "metadata": {
    "deletable": true,
    "editable": true
   },
   "source": [
    "What can we do with this data (rather, the lack thereof)? \n",
    "\n",
    "For now, let's just pull out the first letter of each cabin number (including `NaN`s), cast them as numbers, and hope they improve the performance of our classifier. "
   ]
  },
  {
   "cell_type": "code",
   "execution_count": 43,
   "metadata": {
    "collapsed": true,
    "deletable": true,
    "editable": true
   },
   "outputs": [],
   "source": [
    "## Set of functions to transform features into more convenient format.\n",
    "#\n",
    "# Code performs three separate tasks:\n",
    "#   (1). Pull out the first letter of the cabin feature. \n",
    "#          Code taken from: https://www.kaggle.com/jeffd23/titanic/scikit-learn-ml-from-start-to-finish\n",
    "#   (2). Recasts cabin feature as number.\n",
    "def simplify_cabins(data):\n",
    "    data.Cabin = data.Cabin.fillna('N')\n",
    "    data.Cabin = data.Cabin.apply(lambda x: x[0])\n",
    "    \n",
    "    #cabin_mapping = {'N': 0, 'A': 1, 'B': 1, 'C': 1, 'D': 1, 'E': 1, \n",
    "    #                 'F': 1, 'G': 1, 'T': 1}\n",
    "    #data['Cabin_Known'] = data.Cabin.map(cabin_mapping)\n",
    "    \n",
    "    le = preprocessing.LabelEncoder().fit(data.Cabin)\n",
    "    data.Cabin = le.transform(data.Cabin)\n",
    "    \n",
    "    return data"
   ]
  },
  {
   "cell_type": "markdown",
   "metadata": {
    "deletable": true,
    "editable": true
   },
   "source": [
    "### 3e. Quick Fixes  <a class=\"anchor\" id=\"third-fifth\"></a>"
   ]
  },
  {
   "cell_type": "markdown",
   "metadata": {
    "deletable": true,
    "editable": true
   },
   "source": [
    "Prior to the last step (which is arguably the largest one), we need to tie up a few remaining loose ends:\n",
    "- Recast **Sex** as numerical feature.\n",
    "- Drop unwanted features. \n",
    "    - **Name**: We've taken out the information that we need (**Title**).\n",
    "    - **Ticket**: There appears to be no rhyme or reason to the data in this column, so we remove it from our analysis.\n",
    "- Combine training/test data prior to age imputation."
   ]
  },
  {
   "cell_type": "code",
   "execution_count": 44,
   "metadata": {
    "collapsed": true,
    "deletable": true,
    "editable": true
   },
   "outputs": [],
   "source": [
    "# Recast sex as numerical feature. \n",
    "def simplify_sex(data):\n",
    "    sex_mapping = {'male': 0, 'female': 1}\n",
    "    data.Sex = data.Sex.map(sex_mapping).astype(int)\n",
    "    \n",
    "    return data\n",
    "\n",
    "# Drop all unwanted features (name, ticket). \n",
    "def drop_features(data):\n",
    "    return data.drop(['Name','Ticket'], axis=1)\n",
    "\n",
    "# Perform all feature transformations. \n",
    "def transform_all(data):\n",
    "    data = add_title(data)\n",
    "    data = simplify_embark(data)\n",
    "    data = simplify_cabins(data)\n",
    "    data = simplify_sex(data)\n",
    "    data = drop_features(data)\n",
    "    \n",
    "    return data\n",
    "\n",
    "training_data = transform_all(training_data)\n",
    "test_data = transform_all(test_data)\n",
    "\n",
    "all_data = [training_data, test_data]\n",
    "combined_data = pd.concat(all_data)"
   ]
  },
  {
   "cell_type": "code",
   "execution_count": 45,
   "metadata": {
    "collapsed": false,
    "deletable": true,
    "editable": true
   },
   "outputs": [
    {
     "data": {
      "text/html": [
       "<div>\n",
       "<table border=\"1\" class=\"dataframe\">\n",
       "  <thead>\n",
       "    <tr style=\"text-align: right;\">\n",
       "      <th></th>\n",
       "      <th>Age</th>\n",
       "      <th>Cabin</th>\n",
       "      <th>Embarked</th>\n",
       "      <th>Fare</th>\n",
       "      <th>Parch</th>\n",
       "      <th>PassengerId</th>\n",
       "      <th>Pclass</th>\n",
       "      <th>Sex</th>\n",
       "      <th>SibSp</th>\n",
       "      <th>Survived</th>\n",
       "      <th>Title</th>\n",
       "    </tr>\n",
       "  </thead>\n",
       "  <tbody>\n",
       "    <tr>\n",
       "      <th>0</th>\n",
       "      <td>22.0</td>\n",
       "      <td>7</td>\n",
       "      <td>2</td>\n",
       "      <td>7.2500</td>\n",
       "      <td>0</td>\n",
       "      <td>1</td>\n",
       "      <td>3</td>\n",
       "      <td>0</td>\n",
       "      <td>1</td>\n",
       "      <td>0.0</td>\n",
       "      <td>1</td>\n",
       "    </tr>\n",
       "    <tr>\n",
       "      <th>1</th>\n",
       "      <td>38.0</td>\n",
       "      <td>2</td>\n",
       "      <td>0</td>\n",
       "      <td>71.2833</td>\n",
       "      <td>0</td>\n",
       "      <td>2</td>\n",
       "      <td>1</td>\n",
       "      <td>1</td>\n",
       "      <td>1</td>\n",
       "      <td>1.0</td>\n",
       "      <td>3</td>\n",
       "    </tr>\n",
       "    <tr>\n",
       "      <th>2</th>\n",
       "      <td>26.0</td>\n",
       "      <td>7</td>\n",
       "      <td>2</td>\n",
       "      <td>7.9250</td>\n",
       "      <td>0</td>\n",
       "      <td>3</td>\n",
       "      <td>3</td>\n",
       "      <td>1</td>\n",
       "      <td>0</td>\n",
       "      <td>1.0</td>\n",
       "      <td>2</td>\n",
       "    </tr>\n",
       "    <tr>\n",
       "      <th>3</th>\n",
       "      <td>35.0</td>\n",
       "      <td>2</td>\n",
       "      <td>2</td>\n",
       "      <td>53.1000</td>\n",
       "      <td>0</td>\n",
       "      <td>4</td>\n",
       "      <td>1</td>\n",
       "      <td>1</td>\n",
       "      <td>1</td>\n",
       "      <td>1.0</td>\n",
       "      <td>3</td>\n",
       "    </tr>\n",
       "    <tr>\n",
       "      <th>4</th>\n",
       "      <td>35.0</td>\n",
       "      <td>7</td>\n",
       "      <td>2</td>\n",
       "      <td>8.0500</td>\n",
       "      <td>0</td>\n",
       "      <td>5</td>\n",
       "      <td>3</td>\n",
       "      <td>0</td>\n",
       "      <td>0</td>\n",
       "      <td>0.0</td>\n",
       "      <td>1</td>\n",
       "    </tr>\n",
       "  </tbody>\n",
       "</table>\n",
       "</div>"
      ],
      "text/plain": [
       "    Age  Cabin  Embarked     Fare  Parch  PassengerId  Pclass  Sex  SibSp  \\\n",
       "0  22.0      7         2   7.2500      0            1       3    0      1   \n",
       "1  38.0      2         0  71.2833      0            2       1    1      1   \n",
       "2  26.0      7         2   7.9250      0            3       3    1      0   \n",
       "3  35.0      2         2  53.1000      0            4       1    1      1   \n",
       "4  35.0      7         2   8.0500      0            5       3    0      0   \n",
       "\n",
       "   Survived  Title  \n",
       "0       0.0      1  \n",
       "1       1.0      3  \n",
       "2       1.0      2  \n",
       "3       1.0      3  \n",
       "4       0.0      1  "
      ]
     },
     "execution_count": 45,
     "metadata": {},
     "output_type": "execute_result"
    }
   ],
   "source": [
    "# Inspect data.\n",
    "combined_data.head()"
   ]
  },
  {
   "cell_type": "markdown",
   "metadata": {
    "deletable": true,
    "editable": true
   },
   "source": [
    "### 3f. Imputing Missing Ages  <a class=\"anchor\" id=\"third-sixth\"></a>"
   ]
  },
  {
   "cell_type": "markdown",
   "metadata": {
    "collapsed": true,
    "deletable": true,
    "editable": true
   },
   "source": [
    "It is expected that age will be an important feature; however, a number of ages are missing. Attempting to predict the ages with a simple model was not very successful. We decided to follow the [recommendations for imputation](https://www.omicsonline.org/open-access/a-comparison-of-six-methods-for-missing-data-imputation-2155-6180-1000224.php?aid=54590) from this article. "
   ]
  },
  {
   "cell_type": "code",
   "execution_count": 46,
   "metadata": {
    "collapsed": false,
    "deletable": true,
    "editable": true
   },
   "outputs": [
    {
     "data": {
      "text/plain": [
       "<matplotlib.axes._subplots.AxesSubplot at 0x10acfcb38>"
      ]
     },
     "execution_count": 46,
     "metadata": {},
     "output_type": "execute_result"
    },
    {
     "data": {
      "image/png": "[encoded data removed]",
      "text/plain": [
       "<matplotlib.figure.Figure at 0x10c0c0d68>"
      ]
     },
     "metadata": {},
     "output_type": "display_data"
    }
   ],
   "source": [
    "null_ages = pd.isnull(combined_data.Age)\n",
    "known_ages = pd.notnull(combined_data.Age)\n",
    "initial_dist = combined_data.Age[known_ages]\n",
    "\n",
    "# Examine distribution of ages prior to imputation (for comparison). \n",
    "sns.distplot(initial_dist)"
   ]
  },
  {
   "cell_type": "markdown",
   "metadata": {
    "deletable": true,
    "editable": true
   },
   "source": [
    "[This paper](https://www.ncbi.nlm.nih.gov/pmc/articles/PMC3074241/) provides an introduction to the MICE method with a focus on practical aspects and challenges in using this method. We have chosen to use the MICE implementation from [`fancyimpute`](https://pypi.python.org/pypi/fancyimpute)."
   ]
  },
  {
   "cell_type": "code",
   "execution_count": 47,
   "metadata": {
    "collapsed": false,
    "deletable": true,
    "editable": true
   },
   "outputs": [
    {
     "name": "stdout",
     "output_type": "stream",
     "text": [
      "[MICE] Completing matrix with shape (1309, 10)\n",
      "[MICE] Starting imputation round 1/110, elapsed time 0.001\n",
      "[MICE] Starting imputation round 2/110, elapsed time 0.005\n",
      "[MICE] Starting imputation round 3/110, elapsed time 0.006\n",
      "[MICE] Starting imputation round 4/110, elapsed time 0.007\n",
      "[MICE] Starting imputation round 5/110, elapsed time 0.008\n",
      "[MICE] Starting imputation round 6/110, elapsed time 0.009\n",
      "[MICE] Starting imputation round 7/110, elapsed time 0.010\n",
      "[MICE] Starting imputation round 8/110, elapsed time 0.010\n",
      "[MICE] Starting imputation round 9/110, elapsed time 0.011\n",
      "[MICE] Starting imputation round 10/110, elapsed time 0.012\n",
      "[MICE] Starting imputation round 11/110, elapsed time 0.013\n",
      "[MICE] Starting imputation round 12/110, elapsed time 0.014\n",
      "[MICE] Starting imputation round 13/110, elapsed time 0.015\n",
      "[MICE] Starting imputation round 14/110, elapsed time 0.016\n",
      "[MICE] Starting imputation round 15/110, elapsed time 0.017\n",
      "[MICE] Starting imputation round 16/110, elapsed time 0.018\n",
      "[MICE] Starting imputation round 17/110, elapsed time 0.019\n",
      "[MICE] Starting imputation round 18/110, elapsed time 0.020\n",
      "[MICE] Starting imputation round 19/110, elapsed time 0.021\n",
      "[MICE] Starting imputation round 20/110, elapsed time 0.022\n",
      "[MICE] Starting imputation round 21/110, elapsed time 0.023\n",
      "[MICE] Starting imputation round 22/110, elapsed time 0.023\n",
      "[MICE] Starting imputation round 23/110, elapsed time 0.024\n",
      "[MICE] Starting imputation round 24/110, elapsed time 0.025\n",
      "[MICE] Starting imputation round 25/110, elapsed time 0.026\n",
      "[MICE] Starting imputation round 26/110, elapsed time 0.027\n",
      "[MICE] Starting imputation round 27/110, elapsed time 0.028\n",
      "[MICE] Starting imputation round 28/110, elapsed time 0.028\n",
      "[MICE] Starting imputation round 29/110, elapsed time 0.029\n",
      "[MICE] Starting imputation round 30/110, elapsed time 0.030\n",
      "[MICE] Starting imputation round 31/110, elapsed time 0.034\n",
      "[MICE] Starting imputation round 32/110, elapsed time 0.035\n",
      "[MICE] Starting imputation round 33/110, elapsed time 0.036\n",
      "[MICE] Starting imputation round 34/110, elapsed time 0.037\n",
      "[MICE] Starting imputation round 35/110, elapsed time 0.038\n",
      "[MICE] Starting imputation round 36/110, elapsed time 0.039\n",
      "[MICE] Starting imputation round 37/110, elapsed time 0.040\n",
      "[MICE] Starting imputation round 38/110, elapsed time 0.040\n",
      "[MICE] Starting imputation round 39/110, elapsed time 0.041\n",
      "[MICE] Starting imputation round 40/110, elapsed time 0.042\n",
      "[MICE] Starting imputation round 41/110, elapsed time 0.043\n",
      "[MICE] Starting imputation round 42/110, elapsed time 0.044\n",
      "[MICE] Starting imputation round 43/110, elapsed time 0.044\n",
      "[MICE] Starting imputation round 44/110, elapsed time 0.045\n",
      "[MICE] Starting imputation round 45/110, elapsed time 0.046\n",
      "[MICE] Starting imputation round 46/110, elapsed time 0.047\n",
      "[MICE] Starting imputation round 47/110, elapsed time 0.048\n",
      "[MICE] Starting imputation round 48/110, elapsed time 0.050\n",
      "[MICE] Starting imputation round 49/110, elapsed time 0.050\n",
      "[MICE] Starting imputation round 50/110, elapsed time 0.051\n",
      "[MICE] Starting imputation round 51/110, elapsed time 0.052\n",
      "[MICE] Starting imputation round 52/110, elapsed time 0.053\n",
      "[MICE] Starting imputation round 53/110, elapsed time 0.054\n",
      "[MICE] Starting imputation round 54/110, elapsed time 0.055\n",
      "[MICE] Starting imputation round 55/110, elapsed time 0.056\n",
      "[MICE] Starting imputation round 56/110, elapsed time 0.056\n",
      "[MICE] Starting imputation round 57/110, elapsed time 0.057\n",
      "[MICE] Starting imputation round 58/110, elapsed time 0.058\n",
      "[MICE] Starting imputation round 59/110, elapsed time 0.059\n",
      "[MICE] Starting imputation round 60/110, elapsed time 0.060\n",
      "[MICE] Starting imputation round 61/110, elapsed time 0.061\n",
      "[MICE] Starting imputation round 62/110, elapsed time 0.062\n",
      "[MICE] Starting imputation round 63/110, elapsed time 0.063\n",
      "[MICE] Starting imputation round 64/110, elapsed time 0.064\n",
      "[MICE] Starting imputation round 65/110, elapsed time 0.065\n",
      "[MICE] Starting imputation round 66/110, elapsed time 0.066\n",
      "[MICE] Starting imputation round 67/110, elapsed time 0.067\n",
      "[MICE] Starting imputation round 68/110, elapsed time 0.068\n",
      "[MICE] Starting imputation round 69/110, elapsed time 0.069\n",
      "[MICE] Starting imputation round 70/110, elapsed time 0.070\n",
      "[MICE] Starting imputation round 71/110, elapsed time 0.070\n",
      "[MICE] Starting imputation round 72/110, elapsed time 0.071\n",
      "[MICE] Starting imputation round 73/110, elapsed time 0.072\n",
      "[MICE] Starting imputation round 74/110, elapsed time 0.073\n",
      "[MICE] Starting imputation round 75/110, elapsed time 0.074\n",
      "[MICE] Starting imputation round 76/110, elapsed time 0.075\n",
      "[MICE] Starting imputation round 77/110, elapsed time 0.076\n",
      "[MICE] Starting imputation round 78/110, elapsed time 0.077\n",
      "[MICE] Starting imputation round 79/110, elapsed time 0.077\n",
      "[MICE] Starting imputation round 80/110, elapsed time 0.078\n",
      "[MICE] Starting imputation round 81/110, elapsed time 0.079\n",
      "[MICE] Starting imputation round 82/110, elapsed time 0.080\n",
      "[MICE] Starting imputation round 83/110, elapsed time 0.081\n",
      "[MICE] Starting imputation round 84/110, elapsed time 0.082\n",
      "[MICE] Starting imputation round 85/110, elapsed time 0.083\n",
      "[MICE] Starting imputation round 86/110, elapsed time 0.083\n",
      "[MICE] Starting imputation round 87/110, elapsed time 0.084\n",
      "[MICE] Starting imputation round 88/110, elapsed time 0.085\n",
      "[MICE] Starting imputation round 89/110, elapsed time 0.086\n",
      "[MICE] Starting imputation round 90/110, elapsed time 0.087\n",
      "[MICE] Starting imputation round 91/110, elapsed time 0.088\n",
      "[MICE] Starting imputation round 92/110, elapsed time 0.088\n",
      "[MICE] Starting imputation round 93/110, elapsed time 0.089\n",
      "[MICE] Starting imputation round 94/110, elapsed time 0.090\n",
      "[MICE] Starting imputation round 95/110, elapsed time 0.091\n",
      "[MICE] Starting imputation round 96/110, elapsed time 0.092\n",
      "[MICE] Starting imputation round 97/110, elapsed time 0.093\n",
      "[MICE] Starting imputation round 98/110, elapsed time 0.093\n",
      "[MICE] Starting imputation round 99/110, elapsed time 0.094\n",
      "[MICE] Starting imputation round 100/110, elapsed time 0.095\n",
      "[MICE] Starting imputation round 101/110, elapsed time 0.096\n",
      "[MICE] Starting imputation round 102/110, elapsed time 0.097\n",
      "[MICE] Starting imputation round 103/110, elapsed time 0.098\n",
      "[MICE] Starting imputation round 104/110, elapsed time 0.099\n",
      "[MICE] Starting imputation round 105/110, elapsed time 0.100\n",
      "[MICE] Starting imputation round 106/110, elapsed time 0.101\n",
      "[MICE] Starting imputation round 107/110, elapsed time 0.102\n",
      "[MICE] Starting imputation round 108/110, elapsed time 0.102\n",
      "[MICE] Starting imputation round 109/110, elapsed time 0.103\n",
      "[MICE] Starting imputation round 110/110, elapsed time 0.104\n"
     ]
    }
   ],
   "source": [
    "def impute_ages(data):\n",
    "    drop_survived = data.drop(['Survived'], axis=1)\n",
    "    column_titles = list(drop_survived)\n",
    "    mice_results = fancyimpute.MICE().complete(np.array(drop_survived))\n",
    "    results = pd.DataFrame(mice_results, columns=column_titles)\n",
    "    results['Survived'] = list(data['Survived'])\n",
    "    return results\n",
    "\n",
    "complete_data = impute_ages(combined_data)\n",
    "complete_data.Age = complete_data.Age[~(complete_data.Age).index.duplicated(keep='first')]"
   ]
  },
  {
   "cell_type": "code",
   "execution_count": 48,
   "metadata": {
    "collapsed": false,
    "deletable": true,
    "editable": true
   },
   "outputs": [
    {
     "data": {
      "text/plain": [
       "<matplotlib.legend.Legend at 0x10c63f710>"
      ]
     },
     "execution_count": 48,
     "metadata": {},
     "output_type": "execute_result"
    },
    {
     "data": {
      "image/png": "[encoded data removed]",
      "text/plain": [
       "<matplotlib.figure.Figure at 0x10c63f7f0>"
      ]
     },
     "metadata": {},
     "output_type": "display_data"
    }
   ],
   "source": [
    "# Examine distribution of ages after imputation (for comparison). \n",
    "sns.distplot(initial_dist, label='Initial Distribution')\n",
    "sns.distplot(complete_data.Age, label='After Imputation')\n",
    "plt.title('Distribution of Ages')\n",
    "plt.legend()"
   ]
  },
  {
   "cell_type": "markdown",
   "metadata": {},
   "source": [
    "From the output above it is easy to see that distribution is not dramatically altered by the imputation. Additionally, there are no non-sensical ages (negative or extremely old) produced in the process. For experimenting with the tutorial this step is sufficent. In a more serious project this may be one of the most critical steps. "
   ]
  },
  {
   "cell_type": "markdown",
   "metadata": {
    "deletable": true,
    "editable": true
   },
   "source": [
    "## 4. Prediction <a class=\"anchor\" id=\"fourth-bullet\"></a>"
   ]
  },
  {
   "cell_type": "markdown",
   "metadata": {
    "deletable": true,
    "editable": true
   },
   "source": [
    "The model was chosen to be a support vector machine ([SVM](http://scikit-learn.org/dev/modules/svm.html)) model. The reason for this choice:\n",
    "    1. the method is for supervised classification. \n",
    "    2. effective for high dimensional systems (we intend to expand the features in the next post)\n",
    "In this model we choose to use the `rbf` kernel which is essentially an expansion to an \"infinite\" hyperspace of Gaussians. Therefore, if there is a why to seperate the data points by a single boundary this method has a chance to find it.\n",
    "\n",
    "Below is the code that impliments the model. The commented code below was used to perform a parameter search to find an optimal fit to the data. The highest ranked outcome was used. There is no particular reason for using a random search -we were just experimenting with the tools availiable natively in `sci-kit learn`. In fact, it is likely faster to use a straigt-forward grid search for a problem with so few features; however, this random search will scale more favorable as the number of features grows."
   ]
  },
  {
   "cell_type": "code",
   "execution_count": 49,
   "metadata": {
    "collapsed": false,
    "deletable": true,
    "editable": true
   },
   "outputs": [
    {
     "name": "stdout",
     "output_type": "stream",
     "text": [
      "Accuracy: 0.83 (+/- 0.02)\n",
      "Predicted Number of Survivors: 162\n"
     ]
    }
   ],
   "source": [
    "# Transform age and fare data to have mean zero and variance 1.0.\n",
    "scaler = preprocessing.StandardScaler()\n",
    "select = 'Age Fare'.split()\n",
    "complete_data[select] = scaler.fit_transform(complete_data[select])\n",
    "\n",
    "training_data = complete_data[:891]\n",
    "test_data = complete_data[891:].drop('Survived', axis=1)\n",
    "\n",
    "# ----------------------------------\n",
    "# Support Vector Machines\n",
    "droplist = 'Survived PassengerId'.split()\n",
    "data = training_data.drop(droplist, axis=1)\n",
    "# Define features and target values\n",
    "X, y = data, training_data['Survived']\n",
    "X_train, X_test, y_train, y_test = train_test_split(X, y, test_size=0.5, random_state=0)\n",
    "\n",
    "#\n",
    "# # Set the parameters by cross-validation\n",
    "# param_dist = {'C': scipy.stats.uniform(0.1, 1000), 'gamma': scipy.stats.uniform(.001, 1.0),\n",
    "#   'kernel': ['rbf'], 'class_weight':['balanced', None]}\n",
    "#\n",
    "# clf = SVC()\n",
    "#\n",
    "# # run randomized search\n",
    "# n_iter_search = 10000\n",
    "# random_search = RandomizedSearchCV(clf, param_distributions=param_dist,\n",
    "#                                    n_iter=n_iter_search, n_jobs=-1, cv=4)\n",
    "#\n",
    "# start = time()\n",
    "# random_search.fit(X, y)\n",
    "# print(\"RandomizedSearchCV took %.2f seconds for %d candidates\"\n",
    "#       \" parameter settings.\" % ((time() - start), n_iter_search))\n",
    "# report(random_search.cv_results_)\n",
    "# exit()\n",
    "\n",
    "\"\"\"\n",
    "RandomizedSearchCV took 4851.48 seconds for 10000 candidates parameter settings.\n",
    "Model with rank: 1\n",
    "Mean validation score: 0.833 (std: 0.013)\n",
    "Parameters: {'kernel': 'rbf', 'C': 107.54222939713921, 'gamma': 0.013379109762586716, 'class_weight': None}\n",
    "\n",
    "Model with rank: 2\n",
    "Mean validation score: 0.832 (std: 0.012)\n",
    "Parameters: {'kernel': 'rbf', 'C': 154.85033872208422, 'gamma': 0.010852578446979289, 'class_weight': None}\n",
    "\n",
    "Model with rank: 2\n",
    "Mean validation score: 0.832 (std: 0.012)\n",
    "Parameters: {'kernel': 'rbf', 'C': 142.60506747360913, 'gamma': 0.011625955252680842, 'class_weight': None}\n",
    "\"\"\"\n",
    "\n",
    "params = {'kernel': 'rbf', 'C': 107.54222939713921, 'gamma': 0.013379109762586716, 'class_weight': None}\n",
    "clf = SVC(**params)\n",
    "scores = cross_val_score(clf, X, y, cv=4, n_jobs=-1)\n",
    "print(\"Accuracy: %0.2f (+/- %0.2f)\" % (scores.mean(), scores.std() * 2))\n",
    "\n",
    "droplist = 'PassengerId'.split()\n",
    "clf.fit(X,y)\n",
    "predictions = clf.predict(test_data.drop(droplist, axis=1))\n",
    "#print(predictions)\n",
    "print('Predicted Number of Survivors: %d' % int(np.sum(predictions)))"
   ]
  },
  {
   "cell_type": "code",
   "execution_count": 50,
   "metadata": {
    "collapsed": true,
    "deletable": true,
    "editable": true
   },
   "outputs": [],
   "source": [
    "# output .csv for upload\n",
    "# submission = pd.DataFrame({\n",
    "#         \"PassengerId\": test_data['PassengerId'].astype(int),\n",
    "#         \"Survived\": predictions.astype(int)\n",
    "#     })\n",
    "#\n",
    "# submission.to_csv('../submission.csv', index=False)"
   ]
  },
  {
   "cell_type": "markdown",
   "metadata": {},
   "source": [
    "### Summary of Results\n",
    "The base model is gubbed the gender model. It predicts that all women survive and all men don't. The second model is the SVM model above without scaling on the `fare` and `age` features. Finally, the last model is the fully scaled SVM. The results are summarized below, the accuracy is that on the test set withheld by Kaggle:\n",
    "    1. gender only: 76.5% \n",
    "    2. SVM non-scaled: 75.6%\n",
    "    3. SVM scaled: 79.9%\n",
    "The modest increase over the the base model is enough to from the lowest rank (gender only model) to the top 20%. It will clearly be necessary to generate addition informative features to make further progress."
   ]
  },
  {
   "cell_type": "code",
   "execution_count": null,
   "metadata": {
    "collapsed": true
   },
   "outputs": [],
   "source": []
  }
 ],
 "metadata": {
  "kernelspec": {
   "display_name": "Python 3",
   "language": "python",
   "name": "python3"
  },
  "language_info": {
   "codemirror_mode": {
    "name": "ipython",
    "version": 3
   },
   "file_extension": ".py",
   "mimetype": "text/x-python",
   "name": "python",
   "nbconvert_exporter": "python",
   "pygments_lexer": "ipython3",
   "version": "3.5.1"
  }
 },
 "nbformat": 4,
 "nbformat_minor": 2
}
